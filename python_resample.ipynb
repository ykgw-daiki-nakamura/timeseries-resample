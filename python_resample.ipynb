{
  "nbformat": 4,
  "nbformat_minor": 0,
  "metadata": {
    "colab": {
      "provenance": [],
      "authorship_tag": "ABX9TyMhbBu1gwT9U4OVTVA+PZKh",
      "include_colab_link": true
    },
    "kernelspec": {
      "name": "python3",
      "display_name": "Python 3"
    },
    "language_info": {
      "name": "python"
    }
  },
  "cells": [
    {
      "cell_type": "markdown",
      "metadata": {
        "id": "view-in-github",
        "colab_type": "text"
      },
      "source": [
        "<a href=\"https://colab.research.google.com/github/ykgw-daiki-nakamura/timeseries-resample/blob/main/python_resample.ipynb\" target=\"_parent\"><img src=\"https://colab.research.google.com/assets/colab-badge.svg\" alt=\"Open In Colab\"/></a>"
      ]
    },
    {
      "cell_type": "code",
      "execution_count": 3,
      "metadata": {
        "colab": {
          "base_uri": "https://localhost:8080/"
        },
        "id": "IxO4Qdsxmr-E",
        "outputId": "78e23535-7f8a-4348-b2ee-96002cf71aa4"
      },
      "outputs": [
        {
          "output_type": "stream",
          "name": "stdout",
          "text": [
            "                     value\n",
            "2025-01-01 00:00:00      1\n",
            "2025-01-01 00:01:00      2\n",
            "2025-01-01 00:02:00      3\n",
            "2025-01-01 00:03:00      4\n",
            "2025-01-01 00:04:00      5\n",
            "                      value\n",
            "2026-02-21 15:55:00  599996\n",
            "2026-02-21 15:56:00  599997\n",
            "2026-02-21 15:57:00  599998\n",
            "2026-02-21 15:58:00  599999\n",
            "2026-02-21 15:59:00  600000\n"
          ]
        }
      ],
      "source": [
        "# 2025/01/01 00:00 から開始する1分ごとの時系列データを value:1 から順番に生成する\n",
        "\n",
        "import pandas as pd\n",
        "\n",
        "start_date = pd.to_datetime('2025/01/01 00:00')\n",
        "freq = 'min'\n",
        "periods = 600000\n",
        "\n",
        "time_series_data = pd.DataFrame({\n",
        "    'value': range(1, periods + 1)\n",
        "}, index=pd.date_range(start=start_date, periods=periods, freq=freq))\n",
        "\n",
        "print(time_series_data.head())\n",
        "print(time_series_data.tail())\n"
      ]
    },
    {
      "cell_type": "code",
      "source": [
        "# time_series_data, 30min, sum\n",
        "# Case1. closed='left', label='left'\n",
        "# Case2. closed='left', label='right'\n",
        "# Case3. closed='right', label='left'\n",
        "# Case4. closed='right', label='right'\n",
        "\n",
        "# Case1. closed='left', label='left'\n",
        "resampled_data_case1 = time_series_data.resample('30min', closed='left', label='left').sum()\n",
        "print(\"\\nCase 1: closed='left', label='left'\")\n",
        "print(resampled_data_case1.head())\n",
        "print(resampled_data_case1.tail())\n",
        "\n",
        "# Case2. closed='left', label='right'\n",
        "resampled_data_case2 = time_series_data.resample('30min', closed='left', label='right').sum()\n",
        "print(\"\\nCase 2: closed='left', label='right'\")\n",
        "print(resampled_data_case2.head())\n",
        "print(resampled_data_case2.tail())\n",
        "\n",
        "\n",
        "# Case3. closed='right', label='left'\n",
        "resampled_data_case3 = time_series_data.resample('30min', closed='right', label='left').sum()\n",
        "print(\"\\nCase 3: closed='right', label='left'\")\n",
        "print(resampled_data_case3.head())\n",
        "print(resampled_data_case3.tail())\n",
        "\n",
        "\n",
        "# Case4. closed='right', label='right'\n",
        "resampled_data_case4 = time_series_data.resample('30min', closed='right', label='right').sum()\n",
        "print(\"\\nCase 4: closed='right', label='right'\")\n",
        "print(resampled_data_case4.head())\n",
        "print(resampled_data_case4.tail())"
      ],
      "metadata": {
        "colab": {
          "base_uri": "https://localhost:8080/"
        },
        "id": "x0Ejys9OnaKN",
        "outputId": "4b5fbe99-64ec-4afc-edb7-5a40109bb1e0"
      },
      "execution_count": 7,
      "outputs": [
        {
          "output_type": "stream",
          "name": "stdout",
          "text": [
            "\n",
            "Case 1: closed='left', label='left'\n",
            "                     value\n",
            "2025-01-01 00:00:00    465\n",
            "2025-01-01 00:30:00   1365\n",
            "2025-01-01 01:00:00   2265\n",
            "2025-01-01 01:30:00   3165\n",
            "2025-01-01 02:00:00   4065\n",
            "                        value\n",
            "2026-02-21 13:30:00  17995965\n",
            "2026-02-21 14:00:00  17996865\n",
            "2026-02-21 14:30:00  17997765\n",
            "2026-02-21 15:00:00  17998665\n",
            "2026-02-21 15:30:00  17999565\n",
            "\n",
            "Case 2: closed='left', label='right'\n",
            "                     value\n",
            "2025-01-01 00:30:00    465\n",
            "2025-01-01 01:00:00   1365\n",
            "2025-01-01 01:30:00   2265\n",
            "2025-01-01 02:00:00   3165\n",
            "2025-01-01 02:30:00   4065\n",
            "                        value\n",
            "2026-02-21 14:00:00  17995965\n",
            "2026-02-21 14:30:00  17996865\n",
            "2026-02-21 15:00:00  17997765\n",
            "2026-02-21 15:30:00  17998665\n",
            "2026-02-21 16:00:00  17999565\n",
            "\n",
            "Case 3: closed='right', label='left'\n",
            "                     value\n",
            "2024-12-31 23:30:00      1\n",
            "2025-01-01 00:00:00    495\n",
            "2025-01-01 00:30:00   1395\n",
            "2025-01-01 01:00:00   2295\n",
            "2025-01-01 01:30:00   3195\n",
            "                        value\n",
            "2026-02-21 13:30:00  17995995\n",
            "2026-02-21 14:00:00  17996895\n",
            "2026-02-21 14:30:00  17997795\n",
            "2026-02-21 15:00:00  17998695\n",
            "2026-02-21 15:30:00  17399594\n",
            "\n",
            "Case 4: closed='right', label='right'\n",
            "                     value\n",
            "2025-01-01 00:00:00      1\n",
            "2025-01-01 00:30:00    495\n",
            "2025-01-01 01:00:00   1395\n",
            "2025-01-01 01:30:00   2295\n",
            "2025-01-01 02:00:00   3195\n",
            "                        value\n",
            "2026-02-21 14:00:00  17995995\n",
            "2026-02-21 14:30:00  17996895\n",
            "2026-02-21 15:00:00  17997795\n",
            "2026-02-21 15:30:00  17998695\n",
            "2026-02-21 16:00:00  17399594\n"
          ]
        }
      ]
    },
    {
      "cell_type": "code",
      "source": [
        "# time_series_data, day, sum\n",
        "# Case1. closed='left', label='left'\n",
        "# Case2. closed='left', label='right'\n",
        "# Case3. closed='right', label='left'\n",
        "# Case4. closed='right', label='right'\n",
        "\n",
        "# 集計条件: day, sum\n",
        "\n",
        "# Case1. closed='left', label='left'\n",
        "resampled_data_case1_day = time_series_data.resample('D', closed='left', label='left').sum()\n",
        "print(\"\\nCase 1 (Day): closed='left', label='left'\")\n",
        "print(resampled_data_case1_day.head())\n",
        "print(resampled_data_case1_day.tail())\n",
        "\n",
        "# Case2. closed='left', label='right'\n",
        "resampled_data_case2_day = time_series_data.resample('D', closed='left', label='right').sum()\n",
        "print(\"\\nCase 2 (Day): closed='left', label='right'\")\n",
        "print(resampled_data_case2_day.head())\n",
        "print(resampled_data_case2_day.tail())\n",
        "\n",
        "# Case3. closed='right', label='left'\n",
        "resampled_data_case3_day = time_series_data.resample('D', closed='right', label='left').sum()\n",
        "print(\"\\nCase 3 (Day): closed='right', label='left'\")\n",
        "print(resampled_data_case3_day.head())\n",
        "print(resampled_data_case3_day.tail())\n",
        "\n",
        "# Case4. closed='right', label='right'\n",
        "resampled_data_case4_day = time_series_data.resample('D', closed='right', label='right').sum()\n",
        "print(\"\\nCase 4 (Day): closed='right', label='right'\")\n",
        "print(resampled_data_case4_day.head())\n",
        "print(resampled_data_case4_day.tail())"
      ],
      "metadata": {
        "colab": {
          "base_uri": "https://localhost:8080/"
        },
        "id": "UZHjht_ZnXNa",
        "outputId": "64bf1283-9679-4542-da11-dd6d06bb14ba"
      },
      "execution_count": 8,
      "outputs": [
        {
          "output_type": "stream",
          "name": "stdout",
          "text": [
            "\n",
            "Case 1 (Day): closed='left', label='left'\n",
            "              value\n",
            "2025-01-01  1037520\n",
            "2025-01-02  3111120\n",
            "2025-01-03  5184720\n",
            "2025-01-04  7258320\n",
            "2025-01-05  9331920\n",
            "                value\n",
            "2026-02-17  855360720\n",
            "2026-02-18  857434320\n",
            "2026-02-19  859507920\n",
            "2026-02-20  861581520\n",
            "2026-02-21  575539680\n",
            "\n",
            "Case 2 (Day): closed='left', label='right'\n",
            "              value\n",
            "2025-01-02  1037520\n",
            "2025-01-03  3111120\n",
            "2025-01-04  5184720\n",
            "2025-01-05  7258320\n",
            "2025-01-06  9331920\n",
            "                value\n",
            "2026-02-18  855360720\n",
            "2026-02-19  857434320\n",
            "2026-02-20  859507920\n",
            "2026-02-21  861581520\n",
            "2026-02-22  575539680\n",
            "\n",
            "Case 3 (Day): closed='right', label='left'\n",
            "              value\n",
            "2024-12-31        1\n",
            "2025-01-01  1038960\n",
            "2025-01-02  3112560\n",
            "2025-01-03  5186160\n",
            "2025-01-04  7259760\n",
            "                value\n",
            "2026-02-17  855362160\n",
            "2026-02-18  857435760\n",
            "2026-02-19  859509360\n",
            "2026-02-20  861582960\n",
            "2026-02-21  574940639\n",
            "\n",
            "Case 4 (Day): closed='right', label='right'\n",
            "              value\n",
            "2025-01-01        1\n",
            "2025-01-02  1038960\n",
            "2025-01-03  3112560\n",
            "2025-01-04  5186160\n",
            "2025-01-05  7259760\n",
            "                value\n",
            "2026-02-18  855362160\n",
            "2026-02-19  857435760\n",
            "2026-02-20  859509360\n",
            "2026-02-21  861582960\n",
            "2026-02-22  574940639\n"
          ]
        }
      ]
    }
  ]
}